{
 "cells": [
  {
   "cell_type": "code",
   "execution_count": null,
   "metadata": {},
   "outputs": [],
   "source": [
    "bg_width = 735 # image dimensions\n",
    "bg_height = 305 # image dimensions\n",
    "profile_size = (150, 150) # avatar dimensions\n",
    "\n",
    "x = (bg_width - profile_size[0]) // 2 # coordinates calcul\n",
    "y = (bg_height - profile_size[1]) // 2 # coordinates calcul\n",
    "\n",
    "print(f\"x : {x}; y : {y}\")"
   ]
  }
 ],
 "metadata": {
  "kernelspec": {
   "display_name": "Python 3",
   "language": "python",
   "name": "python3"
  },
  "language_info": {
   "name": "python",
   "version": "3.11.8"
  }
 },
 "nbformat": 4,
 "nbformat_minor": 2
}
