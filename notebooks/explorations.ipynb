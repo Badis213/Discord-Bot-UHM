{
 "cells": [
  {
   "cell_type": "code",
   "execution_count": 1,
   "metadata": {},
   "outputs": [
    {
     "name": "stdout",
     "output_type": "stream",
     "text": [
      "x : 292; y : 77\n"
     ]
    }
   ],
   "source": [
    "bg_width = 735 # image dimensions\n",
    "bg_height = 305 # image dimensions\n",
    "profile_size = (150, 150) # avatar dimensions\n",
    "\n",
    "x = (bg_width - profile_size[0]) // 2 # coordinates calcul\n",
    "y = (bg_height - profile_size[1]) // 2 # coordinates calcul\n",
    "\n",
    "print(f\"x : {x}; y : {y}\")"
   ]
  }
 ],
 "metadata": {
  "kernelspec": {
   "display_name": "Python 3",
   "language": "python",
   "name": "python3"
  },
  "language_info": {
   "codemirror_mode": {
    "name": "ipython",
    "version": 3
   },
   "file_extension": ".py",
   "mimetype": "text/x-python",
   "name": "python",
   "nbconvert_exporter": "python",
   "pygments_lexer": "ipython3",
   "version": "3.11.8"
  }
 },
 "nbformat": 4,
 "nbformat_minor": 2
}
